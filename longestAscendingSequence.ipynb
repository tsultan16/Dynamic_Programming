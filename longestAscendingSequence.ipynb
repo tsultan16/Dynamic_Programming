{
 "cells": [
  {
   "attachments": {},
   "cell_type": "markdown",
   "metadata": {},
   "source": [
    "Implementation of a `dynamic programming` algorithm for finding the longest strictly ascending sub-sequence of a given unsorted sequence of integers from a constant size universe.\n",
    "\n",
    "Author: Tanzid Sultan"
   ]
  },
  {
   "cell_type": "code",
   "execution_count": 62,
   "metadata": {},
   "outputs": [],
   "source": [
    "import numpy as np\n",
    "\n",
    "def longest_ascending_bottom_up(S, U):\n",
    "    \n",
    "    n = len(S)\n",
    "\n",
    "    # create a table for storing the sub-problem solutions A[i,j] for \n",
    "    # first i integers of S and universe size = j \n",
    "    A = []\n",
    "    for i in range(n+1):\n",
    "        b = []\n",
    "        for j in range(U+1):\n",
    "            b.append([])\n",
    "        A.append(b)    \n",
    "\n",
    "    # compute bottom_up solution for A(n, U) \n",
    "    for j in range(1,U+1):\n",
    "        for i in range(1,n+1):\n",
    "            s1 = A[i][j-1]\n",
    "            s2 = A[i-1][j]\n",
    "            if(A[i-1][j] != []):\n",
    "                # if ith element is <= j and larger than the last element \n",
    "                # in A[n-1, j], then we add it\n",
    "                if((S[i-1] <= j) and (S[i-1] > s2[-1])):\n",
    "                    s2.append(S[i-1])    \n",
    "            else:\n",
    "                if(S[i-1] <= j):\n",
    "                    s2.append(S[i-1])\n",
    "\n",
    "            # if the sequence in the previous column is longer, then we copy \n",
    "            # it into this column\n",
    "            if(len(s2) > len(s1)):\n",
    "                A[i][j] += s2\n",
    "            else:   \n",
    "                A[i][j] += s1   \n",
    "            \n",
    "    return A[n][U] \n",
    "    \n"
   ]
  },
  {
   "cell_type": "code",
   "execution_count": 63,
   "metadata": {},
   "outputs": [
    {
     "name": "stdout",
     "output_type": "stream",
     "text": [
      "S: [ 1 20 14  7  9 30 77 15 20 60]\n",
      "Longest ascending subsequence: [1, 7, 9, 15, 20, 60]\n",
      "Length of subsequence: 6\n"
     ]
    }
   ],
   "source": [
    "S = np.array([1, 20, 14, 7, 9, 30, 77, 15, 20, 60])\n",
    "U = 100\n",
    "\n",
    "SL = longest_ascending_bottom_up(S,U)\n",
    "print(f\"S: {S}\")\n",
    "print(f\"Longest ascending subsequence: {SL}\")\n",
    "print(f\"Length of subsequence: {len(SL)}\")"
   ]
  },
  {
   "cell_type": "code",
   "execution_count": 64,
   "metadata": {},
   "outputs": [
    {
     "name": "stdout",
     "output_type": "stream",
     "text": [
      "S: [17 31 20  4  9  5  4  2  1  7  6  8  7  9  8 10  9 11 10]\n",
      "Longest ascending subsequence: [4, 5, 6, 7, 8, 9, 10]\n",
      "Length of subsequence: 7\n"
     ]
    }
   ],
   "source": [
    "S = np.array([17,31,20,4,9,5,4,2,1,7,6,8,7,9,8,10,9,11,10])\n",
    "U = 100\n",
    "\n",
    "SL = longest_ascending_bottom_up(S,U)\n",
    "print(f\"S: {S}\")\n",
    "print(f\"Longest ascending subsequence: {SL}\")\n",
    "print(f\"Length of subsequence: {len(SL)}\")"
   ]
  },
  {
   "cell_type": "code",
   "execution_count": 65,
   "metadata": {},
   "outputs": [
    {
     "name": "stdout",
     "output_type": "stream",
     "text": [
      "S: [80 79 78  1 77 76 75 74  2 73 72 71  3 70 69 68  4 67  5 66 65 64 63  6\n",
      "  7 62 61  8 60]\n",
      "Longest ascending subsequence: [1, 2, 3, 4, 5, 6, 7, 8, 60]\n",
      "Length of subsequence: 9\n"
     ]
    }
   ],
   "source": [
    "S = np.array([80,79,78,1,77,76,75,74,2,73,72,71,3,70,69,68,4,\n",
    "              67,5,66,65,64,63,6,7,62,61,8,60])\n",
    "U = 100\n",
    "\n",
    "SL = longest_ascending_bottom_up(S,U)\n",
    "print(f\"S: {S}\")\n",
    "print(f\"Longest ascending subsequence: {SL}\")\n",
    "print(f\"Length of subsequence: {len(SL)}\")"
   ]
  },
  {
   "cell_type": "code",
   "execution_count": 66,
   "metadata": {},
   "outputs": [
    {
     "name": "stdout",
     "output_type": "stream",
     "text": [
      "S: [  1 200 199   2 199 198   3 198 197   4 197 196   5 196 195   6 195 194\n",
      "   7 194 193   8 193 192   9 192 191  10 191 190  11 190 189  12 189 188\n",
      "  13 188 187  14 187 186  15 186 185  16 185 184  17 184 183  18 183 182\n",
      "  19 182 181  20 181 180  21 180 179  22 179 178  23 178 177  24 177 176\n",
      "  25 176 175  26 175 174  27 174 173  28 173 172  29 172 171  30 171 170\n",
      "  31 170 169  32 169 168  33 168 167   0]\n",
      "Longest ascending subsequence: [1, 2, 3, 4, 5, 6, 7, 8, 9, 10, 11, 12, 13, 14, 15, 16, 17, 18, 19, 20, 21, 22, 23, 24, 25, 26, 27, 28, 29, 30, 31, 32, 33]\n",
      "Length of subsequence: 33\n"
     ]
    }
   ],
   "source": [
    "S = np.zeros(shape=(100), dtype=int)\n",
    "a = 1\n",
    "b = 200\n",
    "for i in range(0,98,3):\n",
    "    S[i] = a\n",
    "    S[i+1] = b\n",
    "    S[i+2] = b-1\n",
    "    a += 1\n",
    "    b -= 1\n",
    "\n",
    "U = 100\n",
    "\n",
    "SL = longest_ascending_bottom_up(S,U)\n",
    "print(f\"S: {S}\")\n",
    "print(f\"Longest ascending subsequence: {SL}\")\n",
    "print(f\"Length of subsequence: {len(SL)}\")"
   ]
  },
  {
   "cell_type": "code",
   "execution_count": 67,
   "metadata": {},
   "outputs": [
    {
     "name": "stdout",
     "output_type": "stream",
     "text": [
      "S: \n",
      "[38 13 73 10 76  6 80 65 17  2 77 72  7 26 51 21 19 85 12 29 30 15 51 69\n",
      " 88 88 95 97 87 14 10  8 64 62 23 58  2  1 61 82  9 89 14 48 73 31 72  4\n",
      " 71 22 50 58  4 69 25 44 77 27 53 81 42 83 16 65 69 26 99 88  8 27 26 23\n",
      " 10 68 24 28 38 58 84 39  9 33 35 11 24 16 88 26 72 93 75 63 47 33 89 24\n",
      " 56 66 78  4]\n",
      "Longest ascending subsequence: [2, 7, 8, 9, 14, 22, 25, 26, 27, 28, 33, 35, 47, 56, 66, 78]\n",
      "Length of subsequence: 16\n"
     ]
    }
   ],
   "source": [
    "np.random.seed(1)\n",
    "S = np.random.randint(1, 100, size=(100))\n",
    "U = 100\n",
    "\n",
    "SL = longest_ascending_bottom_up(S,U)\n",
    "print(f\"S: \\n{S}\")\n",
    "print(f\"Longest ascending subsequence: {SL}\")\n",
    "print(f\"Length of subsequence: {len(SL)}\")"
   ]
  },
  {
   "cell_type": "code",
   "execution_count": 69,
   "metadata": {},
   "outputs": [
    {
     "name": "stdout",
     "output_type": "stream",
     "text": [
      "S: \n",
      "[38 13 73 10 76  6 80 65 17  2 77 72  7 26 51 21 19 85 12 29 30 15 51 69\n",
      " 88 88 95 97 87 14 10  8 64 62 23 58  2  1 61 82  9 89 14 48 73 31 72  4\n",
      " 71 22 50 58  4 69 25 44 77 27 53 81 42 83 16 65 69 26 99 88  8 27 26 23\n",
      " 10 68 24 28 38 58 84 39  9 33 35 11 24 16 88 26 72 93 75 63 47 33 89 24\n",
      " 56 66 78  4  1 78  7 53 86 71  3 77 92 22 76  8 78 73 76 77 44 21 31 37\n",
      "  8 46 69 58 83 97 14 11 24 82  8 25 75 93 21 33 13 66 95 61 25 83 98  3\n",
      " 93 99 11 55 97 83 87 71 67 72 49 55 16  6 18 43 21 49 23 14 98 54 85 11\n",
      " 97 56 62 57 90 22 97 84 26 15 14 85 44  7 78 57 60 16 25 10 67 72 54 70\n",
      " 37 22 41 78 92 50 48 78 41 79 46 88 17 29 46 68 67 79 47  1 30 64 76 36\n",
      " 54 94 34  3 85 84 49 55 33 29 56 83 32 29 95 75  9 33  9 85 78 51 80 42\n",
      " 65 84 25 21 45 16 31 92 15 20 27 87  8 54 48 61 35 33 20 68 25 84 95 39\n",
      " 48  6 80 64 88 33 43 75 67 89 99 31 18 69 65 61 79 18 40 36 82 29 23 39\n",
      " 42 75 78 71 26 49 51 63 45 55  1 87 17 20 10 93 52 11 69 24 15 64 22 47\n",
      "  4 57 89 81 47 55 80 72 15 78 16 26 54 85 59 86 30 45 38 23 92 55 77 13\n",
      " 60 27 77 72 88 40 44 77 39 92 70 99 34 44 27 57 70 74 53 90 28 44  2 83\n",
      " 95 97 27 85 31 65 23 99 53  4 71 13 40 84 49 62 71 14 37 24 23 67 93 96\n",
      " 54 10 42 58 89 94 77 83 12 37 17 31 85 58 36 42 82  3 86 94 37 47 81 28\n",
      " 73 29  3 14 42 37 41 19 98 39 64 47 90  3 99 29 79 76 59 43 27 22 59 17\n",
      " 93 38 12 23  7 97 15 88 76 36 64 33 92 50  1 23 98 71 37 19 28 29 53 95\n",
      " 51 47  8 86 17 30 12 62 15 31  9 41 49 31 24 67 93 65 13 18 34 11 29 76\n",
      "  6 82  6 43 87 53 58 57 79 88 82 11 73 49 20 13 26 78 17  5]\n",
      "Longest ascending subsequence: [2, 7, 8, 9, 10, 11, 13, 16, 18, 21, 22, 25, 29, 30, 32, 33, 35, 36, 39, 42, 49, 51, 52, 54, 55, 57, 62, 67, 77, 83, 85, 86, 90, 93, 97, 98]\n",
      "Length of subsequence: 36\n"
     ]
    }
   ],
   "source": [
    "np.random.seed(1)\n",
    "S = np.random.randint(1, 100, size=(500))\n",
    "U = 100\n",
    "\n",
    "SL = longest_ascending_bottom_up(S,U)\n",
    "print(f\"S: \\n{S}\")\n",
    "print(f\"Longest ascending subsequence: {SL}\")\n",
    "print(f\"Length of subsequence: {len(SL)}\")"
   ]
  }
 ],
 "metadata": {
  "kernelspec": {
   "display_name": "base",
   "language": "python",
   "name": "python3"
  },
  "language_info": {
   "codemirror_mode": {
    "name": "ipython",
    "version": 3
   },
   "file_extension": ".py",
   "mimetype": "text/x-python",
   "name": "python",
   "nbconvert_exporter": "python",
   "pygments_lexer": "ipython3",
   "version": "3.10.9"
  },
  "orig_nbformat": 4
 },
 "nbformat": 4,
 "nbformat_minor": 2
}
