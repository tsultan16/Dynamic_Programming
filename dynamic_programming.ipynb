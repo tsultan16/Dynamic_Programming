{
 "cells": [
  {
   "attachments": {},
   "cell_type": "markdown",
   "metadata": {},
   "source": [
    "**Coin-Row problem**: Given a row of `n` coins, with values `[c1, c2, ..., cn]`, the goal is to pick up the subset of coins with the largest combined value subject to the constraint that we cannot pick any two adjacent coins.\n",
    "\n",
    "Let `F(n)` be defines as the largest combined value given a row of `n` coins.\n",
    "\n",
    "Using the dynamic programming approach, we consider two possible solutions:\n",
    "\n",
    "(1) The solution subset includes the `nth` coin => it cannot contain the `(n-1)th` coin such that the remaining coins must be picked from the first `(n-2)` and the solution can be expressed as:\n",
    "\n",
    "`F(n) = cn + F(n-2)`\n",
    "\n",
    "(2) The solution subset does not contain the nth coin => the coins that can be picked must come from the first `(n-1)` coins, so the solution can be expressed as:\n",
    "\n",
    "`F(n) = F(n-1)`\n",
    "\n",
    "\n",
    "Then the final solution must be the larger of these two possibilities:\n",
    "\n",
    "`F(n) = max(F(n-1), cn + F(n-2))`\n",
    "\n",
    "which is a `recurrance relation` with base case `F(0) = 0, F(1) = c1`\n"
   ]
  },
  {
   "cell_type": "code",
   "execution_count": 3,
   "metadata": {},
   "outputs": [],
   "source": [
    "import numpy as np\n",
    "\n",
    "def coin_row(C):\n",
    "    # create an array to store solutions for subproblems\n",
    "    F = np.zeros(shape=(len(C)+1))\n",
    "\n",
    "    # base cases\n",
    "    F[0] = 0\n",
    "    F[1] = C[0]\n",
    "\n",
    "    # coins pick for each subproblem solution\n",
    "    coins_picked = [[], [C[0]]]\n",
    "    \n",
    "    # bottom up solution for finding F[n-1]\n",
    "    for i in range(2,len(C)+1):\n",
    "        F[i] = max(F[i-1],  C[i-1]+F[i-2])\n",
    "        \n",
    "        if(C[i-1]+F[i-2] > F[i-1]):\n",
    "            coins_picked.append([C[i-1]]+coins_picked[i-2])\n",
    "        else:\n",
    "            coins_picked.append(coins_picked[i-1])   \n",
    "\n",
    "    return F, coins_picked"
   ]
  },
  {
   "cell_type": "code",
   "execution_count": 4,
   "metadata": {},
   "outputs": [
    {
     "name": "stdout",
     "output_type": "stream",
     "text": [
      "Coin values: [ 5.  1.  2. 10.  6.  2.]\n",
      "Subproblems solutions: [ 0.  5.  5.  7. 15. 15. 17.]\n",
      "Subproblems coins_picked: [[], [5.0], [5.0], [2.0, 5.0], [10.0, 5.0], [10.0, 5.0], [2.0, 10.0, 5.0]]\n"
     ]
    }
   ],
   "source": [
    "\n",
    "# row of 6 coins with the following values\n",
    "C = np.array([5.,1.,2.,10.,6.,2.])\n",
    "F, coins_picked = coin_row(C)\n",
    "\n",
    "print(f\"Coin values: {C}\")\n",
    "print(f\"Subproblems solutions: {F}\")\n",
    "print(f\"Subproblems coins_picked: {coins_picked}\")\n",
    "\n"
   ]
  },
  {
   "attachments": {},
   "cell_type": "markdown",
   "metadata": {},
   "source": [
    "**Change-Making Problem**: We want to change a bill of value `N` into `m` smaller bill denominations `d1< d2 < d3 < ... < dm` (where `d1 = 1`) subject to the constraint that we want to minimize the total number of smaller bills used.\n",
    "\n",
    "Let `F(n)` be the minimum number of bills ading to give a total value `n`.\n",
    "\n",
    "To solve this problem using dynamic programming, first consider the set of values `{n-d1, n-d2, ...., n-dj}` where `dj <= n` and the corresponding set of minimum number of bills required to change these values are `{F(n-d1), F(n-d2), ..., F(n-dj)}`. Then if we take the minimum value from this set, say `F(n-dj)` and add one bill of `dj` to this, we get our desired solution for `F(n)` which can be expressed as:\n",
    "\n",
    "`F(n) = 1 + min_(j: dj<=n) { F(n-dj) }`\n",
    "\n",
    "This is a recurrance relation with base case `F(0) = 0`.\n",
    "\n",
    "To solve this problem in a bottom-up fashion, we can compute all subponblem solutions `F(n),  n = 0, 1, ...N` starting with `n = 1` and store them in an array\n"
   ]
  },
  {
   "cell_type": "code",
   "execution_count": 5,
   "metadata": {},
   "outputs": [],
   "source": [
    "def change_making(d, N):\n",
    "\n",
    "    # array of subproblem solutions\n",
    "    F = np.zeros(shape=(N+1))\n",
    "\n",
    "    # bills picked for each subproblems\n",
    "    bills_picked = [[]]\n",
    "\n",
    "    # compute solutions for all n = 1,2, ...N\n",
    "    for i in range(1,N+1):\n",
    "\n",
    "        # find smallest F(n-dj) for all dj <=  n\n",
    "        minF = 1e25 # ~infinity\n",
    "        dj_min = d[0]\n",
    "        for dj in d:\n",
    "            if (dj > i):\n",
    "                break\n",
    "            if(F[i-dj] < minF):\n",
    "                minF = F[i-dj]\n",
    "                dj_min = dj      \n",
    "   \n",
    "        F[i] = 1 + minF \n",
    "        bills_picked.append([dj_min] + bills_picked[i-dj_min])\n",
    "    \n",
    "    return F, bills_picked   "
   ]
  },
  {
   "cell_type": "code",
   "execution_count": 6,
   "metadata": {},
   "outputs": [
    {
     "name": "stdout",
     "output_type": "stream",
     "text": [
      "N = 20, bill denominations = [ 1  2  5 10]\n",
      "n   | F(n)  | bills_picked \n",
      "0     0.0     []\n",
      "1     1.0     [1]\n",
      "2     1.0     [2]\n",
      "3     2.0     [1, 2]\n",
      "4     2.0     [2, 2]\n",
      "5     1.0     [5]\n",
      "6     2.0     [1, 5]\n",
      "7     2.0     [2, 5]\n",
      "8     3.0     [1, 2, 5]\n",
      "9     3.0     [2, 2, 5]\n",
      "10     1.0     [10]\n",
      "11     2.0     [1, 10]\n",
      "12     2.0     [2, 10]\n",
      "13     3.0     [1, 2, 10]\n",
      "14     3.0     [2, 2, 10]\n",
      "15     2.0     [5, 10]\n",
      "16     3.0     [1, 5, 10]\n",
      "17     3.0     [2, 5, 10]\n",
      "18     4.0     [1, 2, 5, 10]\n",
      "19     4.0     [2, 2, 5, 10]\n",
      "20     2.0     [10, 10]\n"
     ]
    }
   ],
   "source": [
    "d = np.array([1,2,5,10])\n",
    "N = 20\n",
    "\n",
    "F, bills_picked = change_making(d,N)\n",
    "print(f\"N = {N}, bill denominations = {d}\")\n",
    "print(f\"n   | F(n)  | bills_picked \")\n",
    "for i in range(len(F)):\n",
    "    print(f\"{i}     {F[i]}     {bills_picked[i]}\")\n",
    "\n"
   ]
  },
  {
   "attachments": {},
   "cell_type": "markdown",
   "metadata": {},
   "source": [
    "**Knapsack Problem**: Given `n` items of values `v1, v2, ..., vn` and weights  `w1, w2, ..., wn` and a knapsack of capacity `W`, the goal is to pick a subset of items that maximizes the total value while the total weight does not exceed the knapsack capacity.\n",
    "\n",
    "Let `F(i,j)` be the maximum value of a subset of the first `i` items that can fit inside a knapsack of capacity `j`\n",
    "\n",
    "To solve for `F(i,j)` using dynamic programming, consider the following two possibilities:\n",
    "\n",
    "(i) The solution does not contain the `ith` => `F(i,j) = F(i-1, j)`\n",
    "(ii) The solution contains the `ith` item such that the remaining items must come for the first `(i-1)` items and their combined weight excludes the weight of the `ith` item => `F(i,j) = vi + F(i-1, j-wi)`\n",
    "\n",
    "Then the solution must be the larger of these two possibilities. This is assuming that the `ith` item will fit in the knapsack of capacity `j` i.e. `wi <= j`, otherwise if it doesn't fit, then the solution will only contain items from the first `(i-1)` items => `F(i,j) = F(i-1, j)` if `wi > j`\n",
    "\n",
    "So we have the follwing recurrance relation:\n",
    "\n",
    "`F(i,j) = max{ F(i-1,j), vi+F(i-1, j-wi) }`, if `wi <= j`\n",
    "        \n",
    "OR\n",
    "\n",
    "`F(i,j) = F(i-1, j)`,                      if `wi > j`\n",
    "\n",
    "with base cases `F(0, j) = F(i, 0) = 0` for all `i,j`\n",
    "\n",
    "We can implement a solution by creating an array for `F(i,j)` and computing all values starting with `i = j = 1`"
   ]
  },
  {
   "cell_type": "code",
   "execution_count": 7,
   "metadata": {},
   "outputs": [],
   "source": [
    "def knapsack_bottomup(v, w, Wcap):\n",
    "\n",
    "    # create an array for the subproblem solutions\n",
    "    F = np.zeros(shape=(len(v)+1, Wcap+1))\n",
    "    \n",
    "    # items picked for each subproblem\n",
    "    items_picked = []\n",
    "    for i in range(0,len(v)+1):\n",
    "        b = []\n",
    "        for j in range(0, Wcap+1):\n",
    "            b.append([])\n",
    "        items_picked.append(b)\n",
    "\n",
    "    for i in range(1,len(v)+1):\n",
    "        for j in range(1, Wcap+1):\n",
    "            if(w[i-1] > j):\n",
    "                F[i,j] = F[i-1, j]\n",
    "                if(items_picked[i-1][j] != []):\n",
    "                    items_picked[i][j] += items_picked[i-1][j]\n",
    "            else:\n",
    "                F[i,j] = max(F[i-1,j], v[i-1] + F[i-1, j-w[i-1]])   \n",
    "                if(F[i-1,j] > v[i-1] + F[i-1, j-w[i-1]]):\n",
    "                    if(items_picked[i-1][j] != []):\n",
    "                        items_picked[i][j] += items_picked[i-1][j]\n",
    "                else:\n",
    "                    items_picked[i][j].append(v[i-1])\n",
    "                    if(items_picked[i-1][j-w[i-1]] != []):\n",
    "                        items_picked[i][j] += items_picked[i-1][j-w[i-1]]\n",
    "\n",
    "    return F[:,:], items_picked    \n",
    "\n",
    "\n",
    "def knapsack_topdown_recursive(i, j, v, w, F, items_picked):\n",
    "\n",
    "    # check to make sure that we havent't computed this subproblem solution already\n",
    "    if(F[i,j] < 0):\n",
    "        items = []\n",
    "        if(w[i-1] > j):\n",
    "            value = knapsack_topdown_recursive(i-1, j, v, w, F, items_picked)\n",
    "            if(items_picked[i-1][j] != []):\n",
    "                items += items_picked[i-1][j]\n",
    "        else:\n",
    "            val1 = knapsack_topdown_recursive(i-1, j, v, w, F, items_picked)\n",
    "            val2 = v[i-1] + knapsack_topdown_recursive(i-1, j-w[i-1], v, w, F, items_picked)\n",
    "            value = max(val1, val2)\n",
    "                          \n",
    "            if(val1 > val2):\n",
    "                if(items_picked[i-1][j] != []):\n",
    "                    items += items_picked[i-1][j]\n",
    "            else:\n",
    "                items = [v[i-1]]\n",
    "                if(items_picked[i-1][j-w[i-1]] != []):\n",
    "                    items += items_picked[i-1][j-w[i-1]]\n",
    "                \n",
    "        F[i,j] = value\n",
    "        items_picked[i][j] += items\n",
    "    return F[i,j]\n"
   ]
  },
  {
   "cell_type": "code",
   "execution_count": 8,
   "metadata": {},
   "outputs": [
    {
     "name": "stdout",
     "output_type": "stream",
     "text": [
      "[[ 0.  0.  0.  0.  0.  0.]\n",
      " [ 0.  0. 12. 12. 12. 12.]\n",
      " [ 0. 10. 12. 22. 22. 22.]\n",
      " [ 0. 10. 12. 22. 30. 32.]\n",
      " [ 0. 10. 15. 25. 30. 37.]]\n",
      "[[], [], [], [], [], []]\n",
      "[[], [], [12], [12], [12], [12]]\n",
      "[[], [10], [12], [10, 12], [10, 12], [10, 12]]\n",
      "[[], [10], [12], [10, 12], [20, 10], [20, 12]]\n",
      "[[], [10], [15], [15, 10], [20, 10], [15, 10, 12]]\n"
     ]
    }
   ],
   "source": [
    "values = np.array([12, 10, 20, 15])\n",
    "weights = np.array([2, 1, 3, 2])\n",
    "W = 5\n",
    "\n",
    "F, items = knapsack_bottomup(values, weights, W)\n",
    "\n",
    "print(F)\n",
    "for i in range(0,len(values)+1):\n",
    "    print(items[i])\n"
   ]
  },
  {
   "cell_type": "code",
   "execution_count": 9,
   "metadata": {},
   "outputs": [
    {
     "name": "stdout",
     "output_type": "stream",
     "text": [
      "[[ 0.  0.  0.  0.  0.  0.]\n",
      " [ 0.  0. 12. 12. 12. 12.]\n",
      " [ 0. -1. 12. 22. -1. 22.]\n",
      " [ 0. -1. -1. 22. -1. 32.]\n",
      " [ 0. -1. -1. -1. -1. 37.]]\n",
      "[[], [], [], [], [], []]\n",
      "[[], [], [12], [12], [12], [12]]\n",
      "[[], [], [12], [10, 12], [], [10, 12]]\n",
      "[[], [], [], [10, 12], [], [20, 12]]\n",
      "[[], [], [], [], [], [15, 10, 12]]\n"
     ]
    }
   ],
   "source": [
    "values = np.array([12, 10, 20, 15])\n",
    "weights = np.array([2, 1, 3, 2])\n",
    "W = 5\n",
    "\n",
    "# create an array for the subproblem solutions (-1 flags subproblem cells that haven't been computed yet)\n",
    "F = np.ones(shape=(len(values)+1, W+1))*-1.0\n",
    "# set base case\n",
    "F[0,:] = 0\n",
    "F[:,0] = 0\n",
    " \n",
    "# items picked for each subproblem\n",
    "items_picked = []\n",
    "for i in range(0,len(values)+1):\n",
    "    b = []\n",
    "    for j in range(0, W+1):\n",
    "        b.append([])\n",
    "    items_picked.append(b)\n",
    "\n",
    "# solve using efficient top down approach\n",
    "knapsack_topdown_recursive(len(values), W, values, weights, F, items_picked)    \n",
    "print(F)\n",
    "for i in range(0,len(values)+1):\n",
    "    print(items_picked[i])"
   ]
  },
  {
   "attachments": {},
   "cell_type": "markdown",
   "metadata": {},
   "source": [
    "Using `Depth-First-Search` to compute the **`Transitive Closure`** of a directed graph with adjacency matrix representation"
   ]
  },
  {
   "cell_type": "code",
   "execution_count": 12,
   "metadata": {},
   "outputs": [],
   "source": [
    "# computes traisitve eclosure matrix using DFS\n",
    "def transitive_closure_dfs(A):\n",
    "\n",
    "    # create a transitive closure matrix and fill with zeros\n",
    "    T = np.zeros_like(A)\n",
    "\n",
    "    # perform DFS starting at each vertex\n",
    "    for v in range(len(A)):\n",
    "\n",
    "        # mark all vertices as unvisited (0 means unvisited and >0 for the order in which a vertex is visited)\n",
    "        visited = np.zeros(shape=(len(A)))\n",
    "        visiting_order = np.zeros(shape=(1))\n",
    "        dfs_recurse(A, v, visited, visiting_order)\n",
    "\n",
    "        #print(f\"Vertex: {v}, visited: {visited}\")\n",
    "\n",
    "        # fill the T matrix row corresponding to vertex v\n",
    "        for w in range(len(A)):\n",
    "            if(visited[w] > 0):\n",
    "                T[v,w] = 1             \n",
    "\n",
    "    return T\n",
    "\n",
    "# performs recursive depth first search on a graph with adjacency matrix A starting from vertex number v\n",
    "def dfs_recurse(A, v, visited, visiting_order):\n",
    "\n",
    "    visiting_order[0] += 1\n",
    "    \n",
    "    # recursively traverse to all unvisited neighboring vertices `w` of vertex `v`   \n",
    "    for w in range(len(A)):\n",
    "        if((A[v,w] == 1) and visited[w] == 0):\n",
    "            # mark w as visited and traverse to w        \n",
    "            visited[w] = visiting_order[0] \n",
    "            dfs_recurse(A, w, visited, visiting_order) "
   ]
  },
  {
   "cell_type": "code",
   "execution_count": 13,
   "metadata": {},
   "outputs": [
    {
     "name": "stdout",
     "output_type": "stream",
     "text": [
      "[[1 1 1 1]\n",
      " [1 1 1 1]\n",
      " [0 0 0 0]\n",
      " [1 1 1 1]]\n"
     ]
    }
   ],
   "source": [
    "# example adjacency matrix of a directed graph with 4 vertices, numbered 0,1,2,3\n",
    "A = np.array([[0,1,0,1], \n",
    "              [0,0,0,1], \n",
    "              [0,0,0,0],\n",
    "              [1,0,1,0]])\n",
    "\n",
    "T = transitive_closure_dfs(A)\n",
    "\n",
    "print(T)"
   ]
  },
  {
   "attachments": {},
   "cell_type": "markdown",
   "metadata": {},
   "source": [
    "Using `Bredth-First-Search` to compute the **`Transitive Closure`** of a directed graph with adjacency matrix representation"
   ]
  },
  {
   "cell_type": "code",
   "execution_count": 17,
   "metadata": {},
   "outputs": [],
   "source": [
    "# computes traisitve eclosure matrix using DFS\n",
    "def transitive_closure_bfs(A):\n",
    "\n",
    "    # create a transitive closure matrix and fill with zeros\n",
    "    T = np.zeros_like(A)\n",
    "\n",
    "    # perform BFS starting at each vertex\n",
    "    for v in range(len(A)):\n",
    "\n",
    "        # mark all vertices as unvisited (0 means unvisited and >0 for the order in which a vertex is visited)\n",
    "        visited = np.zeros(shape=(len(A)))\n",
    "        bfs(A, v, visited)\n",
    "\n",
    "        #print(f\"Vertex: {v}, visited: {visited}\")\n",
    "\n",
    "        # fill the T matrix row corresponding to vertex v\n",
    "        for w in range(len(A)):\n",
    "            if(visited[w] > 0):\n",
    "                T[v,w] = 1             \n",
    "\n",
    "    return T\n",
    "\n",
    "# performs bredth first search on a graph with adjacency matrix A starting from vertex number v\n",
    "def bfs(A, v, visited):\n",
    "\n",
    "    # create a queue and load vertex v onto \n",
    "    bfs_queue = [v]\n",
    "    visiting_order = 1\n",
    "        \n",
    "    # stop when queue becomes empty\n",
    "    while (len(bfs_queue) > 0):  \n",
    "        # select the front element of the queue\n",
    "        front = bfs_queue[0] \n",
    "        # visit each unvisited neighbor 'w' of the vertex at the front of the queue\n",
    "        for w in range(len(A)):\n",
    "            if((A[front,w] == 1) and visited[w] == 0):\n",
    "                # mark w as visited and push it onto queue     \n",
    "                visited[w] = visiting_order\n",
    "                bfs_queue.append(w)\n",
    "                visiting_order += 1\n",
    "        # after visiting all unvisited neighbors of the front element, pop out the front element and repeat the process with new front element\n",
    "        bfs_queue.pop(0)        "
   ]
  },
  {
   "cell_type": "code",
   "execution_count": 18,
   "metadata": {},
   "outputs": [
    {
     "name": "stdout",
     "output_type": "stream",
     "text": [
      "[[1 1 1 1]\n",
      " [1 1 1 1]\n",
      " [0 0 0 0]\n",
      " [1 1 1 1]]\n"
     ]
    }
   ],
   "source": [
    "# example adjacency matrix of a directed graph with 4 vertices, numbered 0,1,2,3\n",
    "A = np.array([[0,1,0,1], \n",
    "              [0,0,0,1], \n",
    "              [0,0,0,0],\n",
    "              [1,0,1,0]])\n",
    "\n",
    "T = transitive_closure_bfs(A)\n",
    "\n",
    "print(T)"
   ]
  },
  {
   "cell_type": "code",
   "execution_count": null,
   "metadata": {},
   "outputs": [],
   "source": []
  }
 ],
 "metadata": {
  "kernelspec": {
   "display_name": "base",
   "language": "python",
   "name": "python3"
  },
  "language_info": {
   "codemirror_mode": {
    "name": "ipython",
    "version": 3
   },
   "file_extension": ".py",
   "mimetype": "text/x-python",
   "name": "python",
   "nbconvert_exporter": "python",
   "pygments_lexer": "ipython3",
   "version": "3.9.13"
  },
  "orig_nbformat": 4
 },
 "nbformat": 4,
 "nbformat_minor": 2
}
