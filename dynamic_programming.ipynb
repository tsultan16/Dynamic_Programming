{
 "cells": [
  {
   "attachments": {},
   "cell_type": "markdown",
   "metadata": {},
   "source": [
    "**Coin-Row problem**: Given a row of `n` coins, with values `[c1, c2, ..., cn]`, the goal is to pick up the subset of coins with the largest combined value subject to the constraint that we cannot pick any two adjacent coins.\n",
    "\n",
    "Let `F(n)` be defines as the largest combined value given a row of `n` coins.\n",
    "\n",
    "Using the dynamic programming approach, we consider two possible solutions:\n",
    "\n",
    "(1) The solution subset includes the `nth` coin => it cannot contain the `(n-1)th` coin such that the remaining coins must be picked from the first `(n-2)` and the solution can be expressed as:\n",
    "\n",
    "`F(n) = cn + F(n-2)`\n",
    "\n",
    "(2) The solution subset does not contain the nth coin => the coins that can be picked must come from the first `(n-1)` coins, so the solution can be expressed as:\n",
    "\n",
    "`F(n) = F(n-1)`\n",
    "\n",
    "\n",
    "Then the final solution must be the larger of these two possibilities:\n",
    "\n",
    "`F(n) = max(F(n-1), cn + F(n-2))`\n",
    "\n",
    "which is a `recurrance relation` with base case `F(0) = 0, F(1) = c1`\n"
   ]
  },
  {
   "cell_type": "code",
   "execution_count": 36,
   "metadata": {},
   "outputs": [],
   "source": [
    "import numpy as np\n",
    "\n",
    "def coin_row(C):\n",
    "    # create an array to store solutions for subproblems\n",
    "    F = np.zeros(shape=(len(C)+1))\n",
    "\n",
    "    # base cases\n",
    "    F[0] = 0\n",
    "    F[1] = C[0]\n",
    "\n",
    "    # coins pick for each subproblem solution\n",
    "    coins_picked = [[None], [C[0]]]\n",
    "    \n",
    "    # bottom up solution for finding F[n-1]\n",
    "    for i in range(2,len(C)+1):\n",
    "        F[i] = max(F[i-1],  C[i-1]+F[i-2])\n",
    "        print(f\"i = {i}, F[{i}] = {F[i]}, F[{i-1}] = {F[i-1]}, F[{i-2}] = {F[i-2]}, C[{i-1}] = {C[i-1]}\")\n",
    "        \n",
    "        if(C[i-1]+F[i-2] > F[i-1]):\n",
    "            coins_picked.append([C[i-1]]+coins_picked[i-2])\n",
    "        else:\n",
    "            coins_picked.append(coins_picked[i-1])   \n",
    "\n",
    "        print(f\"Coins picked: {coins_picked}\")         \n",
    "\n",
    "    return F, coins_picked"
   ]
  },
  {
   "cell_type": "code",
   "execution_count": 37,
   "metadata": {},
   "outputs": [
    {
     "name": "stdout",
     "output_type": "stream",
     "text": [
      "i = 2, F[2] = 5.0, F[1] = 5.0, F[0] = 0.0, C[1] = 1.0\n",
      "Coins picked: [[None], [5.0], [5.0]]\n",
      "i = 3, F[3] = 7.0, F[2] = 5.0, F[1] = 5.0, C[2] = 2.0\n",
      "Coins picked: [[None], [5.0], [5.0], [2.0, 5.0]]\n",
      "i = 4, F[4] = 15.0, F[3] = 7.0, F[2] = 5.0, C[3] = 10.0\n",
      "Coins picked: [[None], [5.0], [5.0], [2.0, 5.0], [10.0, 5.0]]\n",
      "i = 5, F[5] = 15.0, F[4] = 15.0, F[3] = 7.0, C[4] = 6.0\n",
      "Coins picked: [[None], [5.0], [5.0], [2.0, 5.0], [10.0, 5.0], [10.0, 5.0]]\n",
      "i = 6, F[6] = 17.0, F[5] = 15.0, F[4] = 15.0, C[5] = 2.0\n",
      "Coins picked: [[None], [5.0], [5.0], [2.0, 5.0], [10.0, 5.0], [10.0, 5.0], [2.0, 10.0, 5.0]]\n"
     ]
    }
   ],
   "source": [
    "\n",
    "# row of 6 coins with the following values\n",
    "C = np.array([5.,1.,2.,10.,6.,2.])\n",
    "\n",
    "F, coins_picked = coin_row(C)\n",
    "\n"
   ]
  },
  {
   "cell_type": "code",
   "execution_count": 38,
   "metadata": {},
   "outputs": [
    {
     "name": "stdout",
     "output_type": "stream",
     "text": [
      "[ 5.  1.  2. 10.  6.  2.]\n",
      "[ 0.  5.  5.  7. 15. 15. 17.]\n",
      "[[None], [5.0], [5.0], [2.0, 5.0], [10.0, 5.0], [10.0, 5.0], [2.0, 10.0, 5.0]]\n"
     ]
    }
   ],
   "source": [
    "print(C)\n",
    "print(F)\n",
    "print(coins_picked)"
   ]
  },
  {
   "cell_type": "code",
   "execution_count": null,
   "metadata": {},
   "outputs": [],
   "source": []
  }
 ],
 "metadata": {
  "kernelspec": {
   "display_name": "base",
   "language": "python",
   "name": "python3"
  },
  "language_info": {
   "codemirror_mode": {
    "name": "ipython",
    "version": 3
   },
   "file_extension": ".py",
   "mimetype": "text/x-python",
   "name": "python",
   "nbconvert_exporter": "python",
   "pygments_lexer": "ipython3",
   "version": "3.9.13"
  },
  "orig_nbformat": 4
 },
 "nbformat": 4,
 "nbformat_minor": 2
}
