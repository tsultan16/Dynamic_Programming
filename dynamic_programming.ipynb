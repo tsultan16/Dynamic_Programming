{
 "cells": [
  {
   "attachments": {},
   "cell_type": "markdown",
   "metadata": {},
   "source": [
    "**Coin-Row problem**: Given a row of `n` coins, with values `[c1, c2, ..., cn]`, the goal is to pick up the subset of coins with the largest combined value subject to the constraint that we cannot pick any two adjacent coins.\n",
    "\n",
    "Let `F(n)` be defines as the largest combined value given a row of `n` coins.\n",
    "\n",
    "Using the dynamic programming approach, we consider two possible solutions:\n",
    "\n",
    "(1) The solution subset includes the `nth` coin => it cannot contain the `(n-1)th` coin such that the remaining coins must be picked from the first `(n-2)` and the solution can be expressed as:\n",
    "\n",
    "`F(n) = cn + F(n-2)`\n",
    "\n",
    "(2) The solution subset does not contain the nth coin => the coins that can be picked must come from the first `(n-1)` coins, so the solution can be expressed as:\n",
    "\n",
    "`F(n) = F(n-1)`\n",
    "\n",
    "\n",
    "Then the final solution must be the larger of these two possibilities:\n",
    "\n",
    "`F(n) = max(F(n-1), cn + F(n-2))`\n",
    "\n",
    "which is a `recurrance relation` with base case `F(0) = 0, F(1) = c1`\n"
   ]
  },
  {
   "cell_type": "code",
   "execution_count": 54,
   "metadata": {},
   "outputs": [],
   "source": [
    "import numpy as np\n",
    "\n",
    "def coin_row(C):\n",
    "    # create an array to store solutions for subproblems\n",
    "    F = np.zeros(shape=(len(C)+1))\n",
    "\n",
    "    # base cases\n",
    "    F[0] = 0\n",
    "    F[1] = C[0]\n",
    "\n",
    "    # coins pick for each subproblem solution\n",
    "    coins_picked = [[], [C[0]]]\n",
    "    \n",
    "    # bottom up solution for finding F[n-1]\n",
    "    for i in range(2,len(C)+1):\n",
    "        F[i] = max(F[i-1],  C[i-1]+F[i-2])\n",
    "        \n",
    "        if(C[i-1]+F[i-2] > F[i-1]):\n",
    "            coins_picked.append([C[i-1]]+coins_picked[i-2])\n",
    "        else:\n",
    "            coins_picked.append(coins_picked[i-1])   \n",
    "\n",
    "    return F, coins_picked"
   ]
  },
  {
   "cell_type": "code",
   "execution_count": 55,
   "metadata": {},
   "outputs": [
    {
     "name": "stdout",
     "output_type": "stream",
     "text": [
      "Coin values: [ 5.  1.  2. 10.  6.  2.]\n",
      "Subproblems solutions: [ 0.  5.  5.  7. 15. 15. 17.]\n",
      "Subproblems coins_picked: [[], [5.0], [5.0], [2.0, 5.0], [10.0, 5.0], [10.0, 5.0], [2.0, 10.0, 5.0]]\n"
     ]
    }
   ],
   "source": [
    "\n",
    "# row of 6 coins with the following values\n",
    "C = np.array([5.,1.,2.,10.,6.,2.])\n",
    "F, coins_picked = coin_row(C)\n",
    "\n",
    "print(f\"Coin values: {C}\")\n",
    "print(f\"Subproblems solutions: {F}\")\n",
    "print(f\"Subproblems coins_picked: {coins_picked}\")\n",
    "\n"
   ]
  },
  {
   "attachments": {},
   "cell_type": "markdown",
   "metadata": {},
   "source": [
    "**Change-Making Problem**: We want to change a bill of value `N` into `m` smaller bill denominations `d1< d2 < d3 < ... < dm` (where `d1 = 1`) subject to the constraint that we want to minimize the total number of smaller bills used.\n",
    "\n",
    "Let `F(n)` be the minimum number of bills ading to give a total value `n`.\n",
    "\n",
    "To solve this problem using dynamic programming, first consider the set of values `{n-d1, n-d2, ...., n-dj}` where `dj <= n` and the corresponding set of minimum number of bills required to change these values are `{F(n-d1), F(n-d2), ..., F(n-dj)}`. Then if we take the minimum value from this set, say `F(n-dj)` and add one bill of `dj` to this, we get our desired solution for `F(n)` which can be expressed as:\n",
    "\n",
    "`F(n) = 1 + min_(j: dj<=n) { F(n-dj) }`\n",
    "\n",
    "This is a recurrance relation with base case `F(0) = 0`.\n",
    "\n",
    "To solve this problem in a bottom-up fashion, we can compute all subponblem solutions `F(n),  n = 0, 1, ...N` starting with `n = 1` and store them in an array\n"
   ]
  },
  {
   "cell_type": "code",
   "execution_count": 57,
   "metadata": {},
   "outputs": [],
   "source": [
    "def change_making(d, N):\n",
    "\n",
    "    # array of subproblem solutions\n",
    "    F = np.zeros(shape=(N+1))\n",
    "\n",
    "    # bills picked for each subproblems\n",
    "    bills_picked = [[]]\n",
    "\n",
    "    # compute solutions for all n = 1,2, ...N\n",
    "    for i in range(1,N+1):\n",
    "\n",
    "        # find smallest F(n-dj) for all dj <=  n\n",
    "        minF = 1e25 # ~infinity\n",
    "        dj_min = d[0]\n",
    "        for dj in d:\n",
    "            if (dj > i):\n",
    "                break\n",
    "            if(F[i-dj] < minF):\n",
    "                minF = F[i-dj]\n",
    "                dj_min = dj      \n",
    "   \n",
    "        F[i] = 1 + minF \n",
    "        bills_picked.append([dj_min] + bills_picked[i-dj_min])\n",
    "    \n",
    "    return F, bills_picked   "
   ]
  },
  {
   "cell_type": "code",
   "execution_count": 62,
   "metadata": {},
   "outputs": [
    {
     "name": "stdout",
     "output_type": "stream",
     "text": [
      "N = 20, bill denominations = [ 1  2  5 10]\n",
      "n   | F(n)  | bills_picked \n",
      "0     0.0     []\n",
      "1     1.0     [1]\n",
      "2     1.0     [2]\n",
      "3     2.0     [1, 2]\n",
      "4     2.0     [2, 2]\n",
      "5     1.0     [5]\n",
      "6     2.0     [1, 5]\n",
      "7     2.0     [2, 5]\n",
      "8     3.0     [1, 2, 5]\n",
      "9     3.0     [2, 2, 5]\n",
      "10     1.0     [10]\n",
      "11     2.0     [1, 10]\n",
      "12     2.0     [2, 10]\n",
      "13     3.0     [1, 2, 10]\n",
      "14     3.0     [2, 2, 10]\n",
      "15     2.0     [5, 10]\n",
      "16     3.0     [1, 5, 10]\n",
      "17     3.0     [2, 5, 10]\n",
      "18     4.0     [1, 2, 5, 10]\n",
      "19     4.0     [2, 2, 5, 10]\n",
      "20     2.0     [10, 10]\n"
     ]
    }
   ],
   "source": [
    "d = np.array([1,2,5,10])\n",
    "N = 20\n",
    "\n",
    "F, bills_picked = change_making(d,N)\n",
    "print(f\"N = {N}, bill denominations = {d}\")\n",
    "print(f\"n   | F(n)  | bills_picked \")\n",
    "for i in range(len(F)):\n",
    "    print(f\"{i}     {F[i]}     {bills_picked[i]}\")\n",
    "\n"
   ]
  },
  {
   "cell_type": "code",
   "execution_count": null,
   "metadata": {},
   "outputs": [],
   "source": []
  }
 ],
 "metadata": {
  "kernelspec": {
   "display_name": "base",
   "language": "python",
   "name": "python3"
  },
  "language_info": {
   "codemirror_mode": {
    "name": "ipython",
    "version": 3
   },
   "file_extension": ".py",
   "mimetype": "text/x-python",
   "name": "python",
   "nbconvert_exporter": "python",
   "pygments_lexer": "ipython3",
   "version": "3.9.13"
  },
  "orig_nbformat": 4
 },
 "nbformat": 4,
 "nbformat_minor": 2
}
